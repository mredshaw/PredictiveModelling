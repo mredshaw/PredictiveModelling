{
 "cells": [
  {
   "cell_type": "code",
   "execution_count": 134,
   "metadata": {},
   "outputs": [],
   "source": [
    "import numpy as np\n",
    "import pandas as pd\n",
    "import matplotlib as mp\n",
    "import statsmodels.api as sm\n",
    "\n",
    "from statsmodels.sandbox.regression.gmm import IV2SLS \n",
    "# There is a package named IV2SLS in Python. Do not use this package! The exogenous explanatory variables must\n",
    "# be entered as instruments. So it gives wrong answers\n",
    "from statsmodels.sandbox.regression.gmm import GMM\n",
    "from sklearn.model_selection import train_test_split\n",
    "from sklearn.linear_model import LogisticRegression\n",
    "from sklearn.metrics import confusion_matrix, recall_score, precision_score, f1_score"
   ]
  },
  {
   "cell_type": "markdown",
   "metadata": {},
   "source": [
    "**PART 1 (20%)**"
   ]
  },
  {
   "cell_type": "code",
   "execution_count": 135,
   "metadata": {},
   "outputs": [],
   "source": [
    "input_table = pd.read_csv('/Users/mikeredshaw/Documents/Schulich MBAN/Predictive Modelling | MBAN 5110 U /Midterm/midterm_partone.csv')"
   ]
  },
  {
   "cell_type": "code",
   "execution_count": 136,
   "metadata": {},
   "outputs": [
    {
     "data": {
      "text/html": [
       "<div>\n",
       "<style scoped>\n",
       "    .dataframe tbody tr th:only-of-type {\n",
       "        vertical-align: middle;\n",
       "    }\n",
       "\n",
       "    .dataframe tbody tr th {\n",
       "        vertical-align: top;\n",
       "    }\n",
       "\n",
       "    .dataframe thead th {\n",
       "        text-align: right;\n",
       "    }\n",
       "</style>\n",
       "<table border=\"1\" class=\"dataframe\">\n",
       "  <thead>\n",
       "    <tr style=\"text-align: right;\">\n",
       "      <th></th>\n",
       "      <th>Constant</th>\n",
       "      <th>Stock Change</th>\n",
       "      <th>Inventory Turnover</th>\n",
       "      <th>Operating Profit</th>\n",
       "      <th>Interaction Effect</th>\n",
       "      <th>Current Ratio</th>\n",
       "      <th>Quick Ratio</th>\n",
       "      <th>Debt Asset Ratio</th>\n",
       "    </tr>\n",
       "  </thead>\n",
       "  <tbody>\n",
       "    <tr>\n",
       "      <th>0</th>\n",
       "      <td>1</td>\n",
       "      <td>0.870332</td>\n",
       "      <td>1.795946</td>\n",
       "      <td>0.115846</td>\n",
       "      <td>0.208053</td>\n",
       "      <td>1.672527</td>\n",
       "      <td>0.255171</td>\n",
       "      <td>0.473317</td>\n",
       "    </tr>\n",
       "    <tr>\n",
       "      <th>1</th>\n",
       "      <td>1</td>\n",
       "      <td>-0.047347</td>\n",
       "      <td>1.395501</td>\n",
       "      <td>0.436967</td>\n",
       "      <td>0.609788</td>\n",
       "      <td>1.637261</td>\n",
       "      <td>0.221763</td>\n",
       "      <td>0.489967</td>\n",
       "    </tr>\n",
       "    <tr>\n",
       "      <th>2</th>\n",
       "      <td>1</td>\n",
       "      <td>0.001176</td>\n",
       "      <td>1.664563</td>\n",
       "      <td>0.541016</td>\n",
       "      <td>0.900555</td>\n",
       "      <td>1.640619</td>\n",
       "      <td>0.189141</td>\n",
       "      <td>0.374269</td>\n",
       "    </tr>\n",
       "    <tr>\n",
       "      <th>3</th>\n",
       "      <td>1</td>\n",
       "      <td>-0.901200</td>\n",
       "      <td>1.605738</td>\n",
       "      <td>0.539399</td>\n",
       "      <td>0.866133</td>\n",
       "      <td>1.436221</td>\n",
       "      <td>0.131944</td>\n",
       "      <td>0.224399</td>\n",
       "    </tr>\n",
       "    <tr>\n",
       "      <th>4</th>\n",
       "      <td>1</td>\n",
       "      <td>-0.176353</td>\n",
       "      <td>1.591451</td>\n",
       "      <td>0.539938</td>\n",
       "      <td>0.859285</td>\n",
       "      <td>1.433140</td>\n",
       "      <td>0.183095</td>\n",
       "      <td>0.213446</td>\n",
       "    </tr>\n",
       "  </tbody>\n",
       "</table>\n",
       "</div>"
      ],
      "text/plain": [
       "   Constant  Stock Change  Inventory Turnover  Operating Profit  \\\n",
       "0         1      0.870332            1.795946          0.115846   \n",
       "1         1     -0.047347            1.395501          0.436967   \n",
       "2         1      0.001176            1.664563          0.541016   \n",
       "3         1     -0.901200            1.605738          0.539399   \n",
       "4         1     -0.176353            1.591451          0.539938   \n",
       "\n",
       "   Interaction Effect  Current Ratio  Quick Ratio  Debt Asset Ratio  \n",
       "0            0.208053       1.672527     0.255171          0.473317  \n",
       "1            0.609788       1.637261     0.221763          0.489967  \n",
       "2            0.900555       1.640619     0.189141          0.374269  \n",
       "3            0.866133       1.436221     0.131944          0.224399  \n",
       "4            0.859285       1.433140     0.183095          0.213446  "
      ]
     },
     "execution_count": 136,
     "metadata": {},
     "output_type": "execute_result"
    }
   ],
   "source": [
    "input_table.head()"
   ]
  },
  {
   "cell_type": "code",
   "execution_count": 137,
   "metadata": {},
   "outputs": [
    {
     "name": "stdout",
     "output_type": "stream",
     "text": [
      "Optimization terminated successfully.\n",
      "         Current function value: 0.000046\n",
      "         Iterations: 8\n",
      "         Function evaluations: 12\n",
      "         Gradient evaluations: 12\n",
      "Optimization terminated successfully.\n",
      "         Current function value: 0.000373\n",
      "         Iterations: 7\n",
      "         Function evaluations: 13\n",
      "         Gradient evaluations: 13\n",
      "Optimization terminated successfully.\n",
      "         Current function value: 0.000372\n",
      "         Iterations: 5\n",
      "         Function evaluations: 9\n",
      "         Gradient evaluations: 9\n",
      "Optimization terminated successfully.\n",
      "         Current function value: 0.000372\n",
      "         Iterations: 5\n",
      "         Function evaluations: 11\n",
      "         Gradient evaluations: 11\n",
      "Optimization terminated successfully.\n",
      "         Current function value: 0.000372\n",
      "         Iterations: 0\n",
      "         Function evaluations: 1\n",
      "         Gradient evaluations: 1\n"
     ]
    },
    {
     "data": {
      "text/html": [
       "<table class=\"simpletable\">\n",
       "<caption>gmm Results</caption>\n",
       "<tr>\n",
       "  <th>Dep. Variable:</th>            <td>y</td>        <th>  Hansen J:          </th> <td>  0.6317</td>\n",
       "</tr>\n",
       "<tr>\n",
       "  <th>Model:</th>                   <td>gmm</td>       <th>  Prob (Hansen J):   </th>  <td> 0.729</td> \n",
       "</tr>\n",
       "<tr>\n",
       "  <th>Method:</th>                  <td>GMM</td>       <th>                     </th>     <td> </td>   \n",
       "</tr>\n",
       "<tr>\n",
       "  <th>Date:</th>             <td>Fri, 10 Nov 2023</td> <th>                     </th>     <td> </td>   \n",
       "</tr>\n",
       "<tr>\n",
       "  <th>Time:</th>                 <td>10:51:47</td>     <th>                     </th>     <td> </td>   \n",
       "</tr>\n",
       "<tr>\n",
       "  <th>No. Observations:</th>      <td>  1696</td>      <th>                     </th>     <td> </td>   \n",
       "</tr>\n",
       "</table>\n",
       "<table class=\"simpletable\">\n",
       "<tr>\n",
       "   <td></td>      <th>coef</th>     <th>std err</th>      <th>z</th>      <th>P>|z|</th>  <th>[0.025</th>    <th>0.975]</th>  \n",
       "</tr>\n",
       "<tr>\n",
       "  <th>p 0</th> <td>   -0.0200</td> <td>    0.021</td> <td>   -0.964</td> <td> 0.335</td> <td>   -0.061</td> <td>    0.021</td>\n",
       "</tr>\n",
       "<tr>\n",
       "  <th>p 1</th> <td>    0.0011</td> <td>    0.001</td> <td>    1.843</td> <td> 0.065</td> <td>-6.89e-05</td> <td>    0.002</td>\n",
       "</tr>\n",
       "<tr>\n",
       "  <th>p 2</th> <td>   -0.1071</td> <td>    0.032</td> <td>   -3.370</td> <td> 0.001</td> <td>   -0.169</td> <td>   -0.045</td>\n",
       "</tr>\n",
       "<tr>\n",
       "  <th>p 3</th> <td>    0.0011</td> <td>    0.000</td> <td>    2.760</td> <td> 0.006</td> <td>    0.000</td> <td>    0.002</td>\n",
       "</tr>\n",
       "</table>"
      ],
      "text/latex": [
       "\\begin{center}\n",
       "\\begin{tabular}{lclc}\n",
       "\\toprule\n",
       "\\textbf{Dep. Variable:}    &        y         & \\textbf{  Hansen J:          } &    0.6317   \\\\\n",
       "\\textbf{Model:}            &       gmm        & \\textbf{  Prob (Hansen J):   } &    0.729    \\\\\n",
       "\\textbf{Method:}           &       GMM        & \\textbf{                     } &             \\\\\n",
       "\\textbf{Date:}             & Fri, 10 Nov 2023 & \\textbf{                     } &             \\\\\n",
       "\\textbf{Time:}             &     10:51:47     & \\textbf{                     } &             \\\\\n",
       "\\textbf{No. Observations:} &        1696      & \\textbf{                     } &             \\\\\n",
       "\\bottomrule\n",
       "\\end{tabular}\n",
       "\\begin{tabular}{lcccccc}\n",
       "             & \\textbf{coef} & \\textbf{std err} & \\textbf{z} & \\textbf{P$> |$z$|$} & \\textbf{[0.025} & \\textbf{0.975]}  \\\\\n",
       "\\midrule\n",
       "\\textbf{p 0} &      -0.0200  &        0.021     &    -0.964  &         0.335        &       -0.061    &        0.021     \\\\\n",
       "\\textbf{p 1} &       0.0011  &        0.001     &     1.843  &         0.065        &    -6.89e-05    &        0.002     \\\\\n",
       "\\textbf{p 2} &      -0.1071  &        0.032     &    -3.370  &         0.001        &       -0.169    &       -0.045     \\\\\n",
       "\\textbf{p 3} &       0.0011  &        0.000     &     2.760  &         0.006        &        0.000    &        0.002     \\\\\n",
       "\\bottomrule\n",
       "\\end{tabular}\n",
       "%\\caption{gmm Results}\n",
       "\\end{center}"
      ],
      "text/plain": [
       "<class 'statsmodels.iolib.summary.Summary'>\n",
       "\"\"\"\n",
       "                                 gmm Results                                  \n",
       "==============================================================================\n",
       "Dep. Variable:                      y   Hansen J:                       0.6317\n",
       "Model:                            gmm   Prob (Hansen J):                 0.729\n",
       "Method:                           GMM                                         \n",
       "Date:                Fri, 10 Nov 2023                                         \n",
       "Time:                        10:51:47                                         \n",
       "No. Observations:                1696                                         \n",
       "==============================================================================\n",
       "                 coef    std err          z      P>|z|      [0.025      0.975]\n",
       "------------------------------------------------------------------------------\n",
       "p 0           -0.0200      0.021     -0.964      0.335      -0.061       0.021\n",
       "p 1            0.0011      0.001      1.843      0.065   -6.89e-05       0.002\n",
       "p 2           -0.1071      0.032     -3.370      0.001      -0.169      -0.045\n",
       "p 3            0.0011      0.000      2.760      0.006       0.000       0.002\n",
       "==============================================================================\n",
       "\"\"\""
      ]
     },
     "execution_count": 137,
     "metadata": {},
     "output_type": "execute_result"
    }
   ],
   "source": [
    "y_vals  = np.array(input_table[\"Stock Change\"])\n",
    "x_vals  = np.array(input_table[[\"Inventory Turnover\",\"Operating Profit\",\"Interaction Effect\"]])\n",
    "iv_vals = np.array(input_table[[\"Current Ratio\",\"Quick Ratio\",\"Debt Asset Ratio\"]])\n",
    "\n",
    "class gmm(GMM):\n",
    "    def momcond(self, params):\n",
    "        p0, p1, p2, p3 = params\n",
    "        endog = self.endog\n",
    "        exog = self.exog\n",
    "        inst = self.instrument   \n",
    "\n",
    "        error0 = endog - p0 - p1 * exog[:,0] - p2 * exog[:,1] - p3 * exog[:,2]\n",
    "        error1 = (endog - p0 - p1 * exog[:,0] - p2 * exog[:,1] - p3 * exog[:,2]) * exog[:,1]\n",
    "        error2 = (endog - p0 - p1 * exog[:,0] - p2 * exog[:,1] - p3 * exog[:,2]) * exog[:,2]\n",
    "        error3 = (endog - p0 - p1 * exog[:,0] - p2 * exog[:,1] - p3 * exog[:,2]) * inst[:,0] \n",
    "        error4 = (endog - p0 - p1 * exog[:,0] - p2 * exog[:,1] - p3 * exog[:,2]) * inst[:,1] \n",
    "        error5 = (endog - p0 - p1 * exog[:,0] - p2 * exog[:,1] - p3 * exog[:,2]) * inst[:,2] \n",
    "\n",
    "        g = np.column_stack((error0, error1, error2, error3, error4, error5))\n",
    "        return g\n",
    "\n",
    "\n",
    "beta0 = np.array([0.1, 0.1, 0.1, 0.1])\n",
    "res = gmm(endog = y_vals, exog = x_vals, instrument = iv_vals, k_moms=6, k_params=4).fit(beta0)\n",
    "\n",
    "res.summary()"
   ]
  },
  {
   "cell_type": "markdown",
   "metadata": {},
   "source": [
    "## 1. Update the GMM model that we discussed in class by incorporating the 𝛿 term to the instrumental-variable moment expressions.##"
   ]
  },
  {
   "cell_type": "code",
   "execution_count": 138,
   "metadata": {},
   "outputs": [
    {
     "name": "stdout",
     "output_type": "stream",
     "text": [
      "Optimization terminated successfully.\n",
      "         Current function value: 0.000046\n",
      "         Iterations: 10\n",
      "         Function evaluations: 13\n",
      "         Gradient evaluations: 13\n",
      "Optimization terminated successfully.\n",
      "         Current function value: 0.000373\n",
      "         Iterations: 7\n",
      "         Function evaluations: 12\n",
      "         Gradient evaluations: 12\n",
      "Optimization terminated successfully.\n",
      "         Current function value: 0.000372\n",
      "         Iterations: 6\n",
      "         Function evaluations: 10\n",
      "         Gradient evaluations: 10\n",
      "Optimization terminated successfully.\n",
      "         Current function value: 0.000372\n",
      "         Iterations: 1\n",
      "         Function evaluations: 3\n",
      "         Gradient evaluations: 3\n"
     ]
    },
    {
     "data": {
      "text/html": [
       "<table class=\"simpletable\">\n",
       "<caption>gmm Results</caption>\n",
       "<tr>\n",
       "  <th>Dep. Variable:</th>            <td>y</td>        <th>  Hansen J:          </th> <td>  0.6317</td>\n",
       "</tr>\n",
       "<tr>\n",
       "  <th>Model:</th>                   <td>gmm</td>       <th>  Prob (Hansen J):   </th>  <td> 0.427</td> \n",
       "</tr>\n",
       "<tr>\n",
       "  <th>Method:</th>                  <td>GMM</td>       <th>                     </th>     <td> </td>   \n",
       "</tr>\n",
       "<tr>\n",
       "  <th>Date:</th>             <td>Fri, 10 Nov 2023</td> <th>                     </th>     <td> </td>   \n",
       "</tr>\n",
       "<tr>\n",
       "  <th>Time:</th>                 <td>10:51:47</td>     <th>                     </th>     <td> </td>   \n",
       "</tr>\n",
       "<tr>\n",
       "  <th>No. Observations:</th>      <td>  1696</td>      <th>                     </th>     <td> </td>   \n",
       "</tr>\n",
       "</table>\n",
       "<table class=\"simpletable\">\n",
       "<tr>\n",
       "   <td></td>      <th>coef</th>     <th>std err</th>      <th>z</th>      <th>P>|z|</th>  <th>[0.025</th>    <th>0.975]</th>  \n",
       "</tr>\n",
       "<tr>\n",
       "  <th>p 0</th> <td>   -0.0100</td> <td>  1.5e+06</td> <td>-6.68e-09</td> <td> 1.000</td> <td>-2.94e+06</td> <td> 2.94e+06</td>\n",
       "</tr>\n",
       "<tr>\n",
       "  <th>p 1</th> <td>    0.0011</td> <td>    0.001</td> <td>    1.843</td> <td> 0.065</td> <td> -6.9e-05</td> <td>    0.002</td>\n",
       "</tr>\n",
       "<tr>\n",
       "  <th>p 2</th> <td>   -0.1071</td> <td>    0.032</td> <td>   -3.370</td> <td> 0.001</td> <td>   -0.169</td> <td>   -0.045</td>\n",
       "</tr>\n",
       "<tr>\n",
       "  <th>p 3</th> <td>    0.0011</td> <td>    0.000</td> <td>    2.760</td> <td> 0.006</td> <td>    0.000</td> <td>    0.002</td>\n",
       "</tr>\n",
       "<tr>\n",
       "  <th>p 4</th> <td>   -0.0100</td> <td>  1.5e+06</td> <td>-6.68e-09</td> <td> 1.000</td> <td>-2.94e+06</td> <td> 2.94e+06</td>\n",
       "</tr>\n",
       "</table>"
      ],
      "text/latex": [
       "\\begin{center}\n",
       "\\begin{tabular}{lclc}\n",
       "\\toprule\n",
       "\\textbf{Dep. Variable:}    &        y         & \\textbf{  Hansen J:          } &    0.6317   \\\\\n",
       "\\textbf{Model:}            &       gmm        & \\textbf{  Prob (Hansen J):   } &    0.427    \\\\\n",
       "\\textbf{Method:}           &       GMM        & \\textbf{                     } &             \\\\\n",
       "\\textbf{Date:}             & Fri, 10 Nov 2023 & \\textbf{                     } &             \\\\\n",
       "\\textbf{Time:}             &     10:51:47     & \\textbf{                     } &             \\\\\n",
       "\\textbf{No. Observations:} &        1696      & \\textbf{                     } &             \\\\\n",
       "\\bottomrule\n",
       "\\end{tabular}\n",
       "\\begin{tabular}{lcccccc}\n",
       "             & \\textbf{coef} & \\textbf{std err} & \\textbf{z} & \\textbf{P$> |$z$|$} & \\textbf{[0.025} & \\textbf{0.975]}  \\\\\n",
       "\\midrule\n",
       "\\textbf{p 0} &      -0.0100  &      1.5e+06     & -6.68e-09  &         1.000        &    -2.94e+06    &     2.94e+06     \\\\\n",
       "\\textbf{p 1} &       0.0011  &        0.001     &     1.843  &         0.065        &     -6.9e-05    &        0.002     \\\\\n",
       "\\textbf{p 2} &      -0.1071  &        0.032     &    -3.370  &         0.001        &       -0.169    &       -0.045     \\\\\n",
       "\\textbf{p 3} &       0.0011  &        0.000     &     2.760  &         0.006        &        0.000    &        0.002     \\\\\n",
       "\\textbf{p 4} &      -0.0100  &      1.5e+06     & -6.68e-09  &         1.000        &    -2.94e+06    &     2.94e+06     \\\\\n",
       "\\bottomrule\n",
       "\\end{tabular}\n",
       "%\\caption{gmm Results}\n",
       "\\end{center}"
      ],
      "text/plain": [
       "<class 'statsmodels.iolib.summary.Summary'>\n",
       "\"\"\"\n",
       "                                 gmm Results                                  \n",
       "==============================================================================\n",
       "Dep. Variable:                      y   Hansen J:                       0.6317\n",
       "Model:                            gmm   Prob (Hansen J):                 0.427\n",
       "Method:                           GMM                                         \n",
       "Date:                Fri, 10 Nov 2023                                         \n",
       "Time:                        10:51:47                                         \n",
       "No. Observations:                1696                                         \n",
       "==============================================================================\n",
       "                 coef    std err          z      P>|z|      [0.025      0.975]\n",
       "------------------------------------------------------------------------------\n",
       "p 0           -0.0100    1.5e+06  -6.68e-09      1.000   -2.94e+06    2.94e+06\n",
       "p 1            0.0011      0.001      1.843      0.065    -6.9e-05       0.002\n",
       "p 2           -0.1071      0.032     -3.370      0.001      -0.169      -0.045\n",
       "p 3            0.0011      0.000      2.760      0.006       0.000       0.002\n",
       "p 4           -0.0100    1.5e+06  -6.68e-09      1.000   -2.94e+06    2.94e+06\n",
       "==============================================================================\n",
       "\"\"\""
      ]
     },
     "execution_count": 138,
     "metadata": {},
     "output_type": "execute_result"
    }
   ],
   "source": [
    "y_vals  = np.array(input_table[\"Stock Change\"])\n",
    "x_vals  = np.array(input_table[[\"Inventory Turnover\",\"Operating Profit\",\"Interaction Effect\"]])\n",
    "iv_vals = np.array(input_table[[\"Current Ratio\",\"Quick Ratio\",\"Debt Asset Ratio\"]])\n",
    "\n",
    "class gmm(GMM):\n",
    "    def momcond(self, params):\n",
    "        p0, p1, p2, p3, delta = params #Included delta term here\n",
    "        endog = self.endog\n",
    "        exog = self.exog\n",
    "        inst = self.instrument   \n",
    "#Added the delta term to the error calculations.\n",
    "        error0 = endog - p0 - p1 * exog[:,0] - p2 * exog[:,1] - p3 * exog[:,2] - delta * 1\n",
    "        error1 = (endog - p0 - p1 * exog[:,0] - p2 * exog[:,1] - p3 * exog[:,2] - delta * 1) * exog[:,1]\n",
    "        error2 = (endog - p0 - p1 * exog[:,0] - p2 * exog[:,1] - p3 * exog[:,2] - delta * 1) * exog[:,2]\n",
    "        error3 = (endog - p0 - p1 * exog[:,0] - p2 * exog[:,1] - p3 * exog[:,2] - delta * 1) * inst[:,0]\n",
    "        error4 = (endog - p0 - p1 * exog[:,0] - p2 * exog[:,1] - p3 * exog[:,2] - delta * 1) * inst[:,1]\n",
    "        error5 = (endog - p0 - p1 * exog[:,0] - p2 * exog[:,1] - p3 * exog[:,2] - delta * 1) * inst[:,2]\n",
    "\n",
    "        g = np.column_stack((error0, error1, error2, error3, error4, error5))\n",
    "        return g\n",
    "\n",
    "beta0 = np.array([0.1, 0.1, 0.1, 0.1, 0.1])\n",
    "res = gmm(endog=y_vals, exog=x_vals, instrument=iv_vals, k_moms=6, k_params=5).fit(beta0)\n",
    "\n",
    "res.summary()\n"
   ]
  },
  {
   "cell_type": "markdown",
   "metadata": {},
   "source": [
    "## Standard Error ##\n",
    "In the initial model, the standard errors are all quite small. With the includion of the delta variable, the standard error of p0 becomes very large, as well as the standard error of p4. This suggests that estimating the value of this coeffecients becomes very unstable/inconsistent. \n",
    "\n",
    "## Statistical significance (Z & P Scores) ##\n",
    "Although p1,p2 & p3 values did not change, p0 went from having some significance (p score of 0.335, z score -0.964), to having no significance (z-score of -6.68e-09, p-score of 1.000). The delta value p4 has the exact same z and p score as p0, suggesting no statistical significance on the dependent variable.\n"
   ]
  },
  {
   "cell_type": "code",
   "execution_count": 139,
   "metadata": {},
   "outputs": [],
   "source": [
    "df = pd.read_csv('/Users/mikeredshaw/Documents/Schulich MBAN/Predictive Modelling | MBAN 5110 U /Midterm/midterm_parttwo.csv')"
   ]
  },
  {
   "cell_type": "code",
   "execution_count": 140,
   "metadata": {},
   "outputs": [],
   "source": [
    "df_unchanged = df.copy()"
   ]
  },
  {
   "cell_type": "code",
   "execution_count": 141,
   "metadata": {},
   "outputs": [
    {
     "name": "stdout",
     "output_type": "stream",
     "text": [
      "['Low' 'Medium' 'High']\n",
      "['No dependent' 'Less than 2' 'More than 2']\n",
      "['Very low' 'Low' 'Moderate' 'High' 'Very High']\n",
      "['Very low' 'Low' 'Moderate' 'High' 'Very high']\n",
      "['Married' 'Single' 'Not specified']\n",
      "['Positive' 'Negative']\n"
     ]
    }
   ],
   "source": [
    "print(df['Requested Credit Amount'].unique())\n",
    "print(df['Number of Dependents'].unique())\n",
    "print(df['Monthly Income'].unique())\n",
    "print(df['Monthly Expense'].unique())\n",
    "print(df['Marital Status'].unique())\n",
    "print(df['Credit Rating'].unique())"
   ]
  },
  {
   "cell_type": "code",
   "execution_count": 142,
   "metadata": {},
   "outputs": [],
   "source": [
    "df['Requested Credit Amount'] = df['Requested Credit Amount'].map({'Low': 1, 'Medium': 2, 'High': 3})\n",
    "df['Number of Dependents'] = df['Number of Dependents'].map({'No dependent': 1, 'Less than 2': 2, 'More than 2': 3})\n",
    "df['Monthly Income'] = df['Monthly Income'].map({'Very low':1, 'Low':2, 'Moderate': 3, 'High': 4, 'Very High': 5})\n",
    "df['Monthly Expense'] = df['Monthly Expense'].map({'Very low':1, 'Low':2, 'Moderate': 3, 'High': 4, 'Very high': 5})\n",
    "df['Marital Status'] = df['Marital Status'].map({'Married':1, 'Single':2, 'Not specified': 3})\n",
    "df['Credit Rating'] = df['Credit Rating'].map({'Positive':1, 'Negative':0})\n"
   ]
  },
  {
   "cell_type": "code",
   "execution_count": 143,
   "metadata": {},
   "outputs": [
    {
     "name": "stdout",
     "output_type": "stream",
     "text": [
      "[1 2 3]\n",
      "[1 2 3]\n",
      "[1 2 3 4 5]\n",
      "[1 2 3 4 5]\n",
      "[1 2 3]\n",
      "[1 0]\n"
     ]
    }
   ],
   "source": [
    "print(df['Requested Credit Amount'].unique())\n",
    "print(df['Number of Dependents'].unique())\n",
    "print(df['Monthly Income'].unique())\n",
    "print(df['Monthly Expense'].unique())\n",
    "print(df['Marital Status'].unique())\n",
    "print(df['Credit Rating'].unique())"
   ]
  },
  {
   "cell_type": "code",
   "execution_count": 144,
   "metadata": {},
   "outputs": [
    {
     "data": {
      "text/html": [
       "<div>\n",
       "<style scoped>\n",
       "    .dataframe tbody tr th:only-of-type {\n",
       "        vertical-align: middle;\n",
       "    }\n",
       "\n",
       "    .dataframe tbody tr th {\n",
       "        vertical-align: top;\n",
       "    }\n",
       "\n",
       "    .dataframe thead th {\n",
       "        text-align: right;\n",
       "    }\n",
       "</style>\n",
       "<table border=\"1\" class=\"dataframe\">\n",
       "  <thead>\n",
       "    <tr style=\"text-align: right;\">\n",
       "      <th></th>\n",
       "      <th>Years of Education after High School</th>\n",
       "      <th>Requested Credit Amount</th>\n",
       "      <th>Number of Dependents</th>\n",
       "      <th>Monthly Income</th>\n",
       "      <th>Monthly Expense</th>\n",
       "      <th>Marital Status</th>\n",
       "      <th>Credit Rating</th>\n",
       "    </tr>\n",
       "  </thead>\n",
       "  <tbody>\n",
       "    <tr>\n",
       "      <th>0</th>\n",
       "      <td>1</td>\n",
       "      <td>1</td>\n",
       "      <td>1</td>\n",
       "      <td>1</td>\n",
       "      <td>1</td>\n",
       "      <td>1</td>\n",
       "      <td>1</td>\n",
       "    </tr>\n",
       "    <tr>\n",
       "      <th>1</th>\n",
       "      <td>2</td>\n",
       "      <td>1</td>\n",
       "      <td>1</td>\n",
       "      <td>1</td>\n",
       "      <td>1</td>\n",
       "      <td>2</td>\n",
       "      <td>1</td>\n",
       "    </tr>\n",
       "    <tr>\n",
       "      <th>2</th>\n",
       "      <td>1</td>\n",
       "      <td>1</td>\n",
       "      <td>1</td>\n",
       "      <td>1</td>\n",
       "      <td>1</td>\n",
       "      <td>2</td>\n",
       "      <td>1</td>\n",
       "    </tr>\n",
       "    <tr>\n",
       "      <th>3</th>\n",
       "      <td>3</td>\n",
       "      <td>1</td>\n",
       "      <td>1</td>\n",
       "      <td>1</td>\n",
       "      <td>1</td>\n",
       "      <td>1</td>\n",
       "      <td>1</td>\n",
       "    </tr>\n",
       "    <tr>\n",
       "      <th>4</th>\n",
       "      <td>3</td>\n",
       "      <td>1</td>\n",
       "      <td>1</td>\n",
       "      <td>1</td>\n",
       "      <td>1</td>\n",
       "      <td>2</td>\n",
       "      <td>0</td>\n",
       "    </tr>\n",
       "  </tbody>\n",
       "</table>\n",
       "</div>"
      ],
      "text/plain": [
       "   Years of Education after High School  Requested Credit Amount  \\\n",
       "0                                     1                        1   \n",
       "1                                     2                        1   \n",
       "2                                     1                        1   \n",
       "3                                     3                        1   \n",
       "4                                     3                        1   \n",
       "\n",
       "   Number of Dependents  Monthly Income  Monthly Expense  Marital Status  \\\n",
       "0                     1               1                1               1   \n",
       "1                     1               1                1               2   \n",
       "2                     1               1                1               2   \n",
       "3                     1               1                1               1   \n",
       "4                     1               1                1               2   \n",
       "\n",
       "   Credit Rating  \n",
       "0              1  \n",
       "1              1  \n",
       "2              1  \n",
       "3              1  \n",
       "4              0  "
      ]
     },
     "execution_count": 144,
     "metadata": {},
     "output_type": "execute_result"
    }
   ],
   "source": [
    "df.head()"
   ]
  },
  {
   "cell_type": "code",
   "execution_count": 145,
   "metadata": {},
   "outputs": [
    {
     "data": {
      "text/plain": [
       "array([1, 2, 3])"
      ]
     },
     "execution_count": 145,
     "metadata": {},
     "output_type": "execute_result"
    }
   ],
   "source": [
    "df['Requested Credit Amount'].unique()"
   ]
  },
  {
   "cell_type": "code",
   "execution_count": 146,
   "metadata": {},
   "outputs": [],
   "source": [
    "train, test = train_test_split(df, test_size=0.5, random_state=42)\n",
    "\n",
    "X_train = train.drop('Credit Rating', axis=1)\n",
    "y_train = train['Credit Rating']\n",
    "X_test = test.drop('Credit Rating', axis=1)\n",
    "y_test = test['Credit Rating']"
   ]
  },
  {
   "cell_type": "code",
   "execution_count": 147,
   "metadata": {},
   "outputs": [],
   "source": [
    "model = LogisticRegression()\n",
    "model.fit(X_train, y_train)\n",
    "\n",
    "y_pred = model.predict(X_test)"
   ]
  },
  {
   "cell_type": "code",
   "execution_count": 148,
   "metadata": {},
   "outputs": [
    {
     "name": "stdout",
     "output_type": "stream",
     "text": [
      "Confusion Matrix:\n",
      " [[   0  577]\n",
      " [   0 3464]]\n",
      "\n",
      "Recall: 1.0\n",
      "Precision: 0.8572135609997525\n",
      "F1 Score: 0.9231179213857428\n"
     ]
    }
   ],
   "source": [
    "conf_matrix = confusion_matrix(y_test, y_pred)\n",
    "recall = recall_score(y_test, y_pred)\n",
    "precision = precision_score(y_test, y_pred)\n",
    "f1 = f1_score(y_test, y_pred)\n",
    "\n",
    "print(\"Confusion Matrix:\\n\", conf_matrix)\n",
    "print(\"\\nRecall:\", recall)\n",
    "print(\"Precision:\", precision)\n",
    "print(\"F1 Score:\", f1)\n"
   ]
  },
  {
   "cell_type": "code",
   "execution_count": 149,
   "metadata": {},
   "outputs": [
    {
     "data": {
      "text/plain": [
       "array([[ 0.07044547, -0.11513449,  0.16900548, -0.09915283,  0.0781597 ,\n",
       "         0.1366732 ]])"
      ]
     },
     "execution_count": 149,
     "metadata": {},
     "output_type": "execute_result"
    }
   ],
   "source": [
    "model.coef_"
   ]
  },
  {
   "cell_type": "code",
   "execution_count": 150,
   "metadata": {},
   "outputs": [
    {
     "data": {
      "text/plain": [
       "array([1, 0])"
      ]
     },
     "execution_count": 150,
     "metadata": {},
     "output_type": "execute_result"
    }
   ],
   "source": [
    "y_train.unique()"
   ]
  },
  {
   "cell_type": "code",
   "execution_count": 151,
   "metadata": {},
   "outputs": [
    {
     "name": "stdout",
     "output_type": "stream",
     "text": [
      "Updated Confusion Matrix:\n",
      " [[ 499   78]\n",
      " [2922  542]]\n",
      "\n",
      "Updated Recall: 0.1564665127020785\n",
      "Updated Precision: 0.8741935483870967\n",
      "Updated F1 Score: 0.2654260528893242\n"
     ]
    }
   ],
   "source": [
    "y_scores = model.predict_proba(X_test)[:, 1]  # get the probabilities of the positive class\n",
    "threshold_15 = np.percentile(y_scores, 85)  # 85th percentile because we want the top 15%\n",
    "\n",
    "# Applying the new threshold\n",
    "y_pred_15 = (y_scores >= threshold_15).astype(int)\n",
    "\n",
    "# Updated Model Evaluation\n",
    "conf_matrix_15 = confusion_matrix(y_test, y_pred_15)\n",
    "recall_15 = recall_score(y_test, y_pred_15)\n",
    "precision_15 = precision_score(y_test, y_pred_15)\n",
    "f1_15 = f1_score(y_test, y_pred_15)\n",
    "\n",
    "print(\"Updated Confusion Matrix:\\n\", conf_matrix_15)\n",
    "print(\"\\nUpdated Recall:\", recall_15)\n",
    "print(\"Updated Precision:\", precision_15)\n",
    "print(\"Updated F1 Score:\", f1_15)\n"
   ]
  },
  {
   "cell_type": "code",
   "execution_count": 152,
   "metadata": {},
   "outputs": [
    {
     "data": {
      "text/plain": [
       "array([0, 1])"
      ]
     },
     "execution_count": 152,
     "metadata": {},
     "output_type": "execute_result"
    }
   ],
   "source": [
    "from sklearn.utils.multiclass import unique_labels\n",
    "unique_labels(y_test)"
   ]
  },
  {
   "cell_type": "code",
   "execution_count": 153,
   "metadata": {},
   "outputs": [],
   "source": [
    "def plot(y_train, y_pred):\n",
    "    labels = unique_labels(y_test)\n",
    "    column = [f'Predicted {label}' for label in labels]\n",
    "    indices = [f'Actual {label}' for label in labels]\n",
    "    table = pd.DataFrame(confusion_matrix(y_train, y_pred),\n",
    "                         columns=column, index=indices)\n",
    "    return table\n",
    "    "
   ]
  },
  {
   "cell_type": "code",
   "execution_count": 154,
   "metadata": {},
   "outputs": [
    {
     "data": {
      "text/html": [
       "<div>\n",
       "<style scoped>\n",
       "    .dataframe tbody tr th:only-of-type {\n",
       "        vertical-align: middle;\n",
       "    }\n",
       "\n",
       "    .dataframe tbody tr th {\n",
       "        vertical-align: top;\n",
       "    }\n",
       "\n",
       "    .dataframe thead th {\n",
       "        text-align: right;\n",
       "    }\n",
       "</style>\n",
       "<table border=\"1\" class=\"dataframe\">\n",
       "  <thead>\n",
       "    <tr style=\"text-align: right;\">\n",
       "      <th></th>\n",
       "      <th>Predicted 0</th>\n",
       "      <th>Predicted 1</th>\n",
       "    </tr>\n",
       "  </thead>\n",
       "  <tbody>\n",
       "    <tr>\n",
       "      <th>Actual 0</th>\n",
       "      <td>0</td>\n",
       "      <td>577</td>\n",
       "    </tr>\n",
       "    <tr>\n",
       "      <th>Actual 1</th>\n",
       "      <td>0</td>\n",
       "      <td>3464</td>\n",
       "    </tr>\n",
       "  </tbody>\n",
       "</table>\n",
       "</div>"
      ],
      "text/plain": [
       "          Predicted 0  Predicted 1\n",
       "Actual 0            0          577\n",
       "Actual 1            0         3464"
      ]
     },
     "execution_count": 154,
     "metadata": {},
     "output_type": "execute_result"
    }
   ],
   "source": [
    "plot(y_test, y_pred)"
   ]
  },
  {
   "cell_type": "code",
   "execution_count": null,
   "metadata": {},
   "outputs": [],
   "source": []
  },
  {
   "cell_type": "code",
   "execution_count": 156,
   "metadata": {},
   "outputs": [],
   "source": [
    "def plot2(y_train, y_pred):\n",
    "    labels = unique_labels(y_test)\n",
    "    column = [f'Predicted {label}' for label in labels]\n",
    "    indices = [f'Actual {label}' for label in labels]\n",
    "    table = pd.DataFrame(confusion_matrix(y_train, y_pred),\n",
    "                         columns=column, index=indices)\n",
    "    return sns.heatmap(table, annot=True, fmt='d', cmap='viridis')"
   ]
  },
  {
   "cell_type": "code",
   "execution_count": 157,
   "metadata": {},
   "outputs": [
    {
     "data": {
      "text/plain": [
       "<Axes: >"
      ]
     },
     "execution_count": 157,
     "metadata": {},
     "output_type": "execute_result"
    },
    {
     "data": {
      "image/png": "[encoded data removed]",
      "text/plain": [
       "<Figure size 640x480 with 2 Axes>"
      ]
     },
     "metadata": {},
     "output_type": "display_data"
    }
   ],
   "source": [
    "plot2(y_test, y_pred)"
   ]
  }
 ],
 "metadata": {
  "kernelspec": {
   "display_name": "Python 3",
   "language": "python",
   "name": "python3"
  },
  "language_info": {
   "codemirror_mode": {
    "name": "ipython",
    "version": 3
   },
   "file_extension": ".py",
   "mimetype": "text/x-python",
   "name": "python",
   "nbconvert_exporter": "python",
   "pygments_lexer": "ipython3",
   "version": "3.11.3"
  }
 },
 "nbformat": 4,
 "nbformat_minor": 2
}
