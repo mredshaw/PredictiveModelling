{
 "cells": [
  {
   "cell_type": "code",
   "execution_count": 103,
   "id": "8289f5e1",
   "metadata": {},
   "outputs": [],
   "source": [
    "import numpy as np\n",
    "import pandas as pd\n",
    "import matplotlib.pyplot as plt\n",
    "import statsmodels.api as sm\n",
    "from sklearn import linear_model as lm"
   ]
  },
  {
   "cell_type": "code",
   "execution_count": 104,
   "id": "ac25ff6d",
   "metadata": {},
   "outputs": [],
   "source": [
    "x_1 = np.random.uniform(10,40,100)\n",
    "x_2 = np.random.uniform(-50,20,100)\n",
    "x_3 = np.random.uniform(20,60,100)\n",
    "x_4 = np.random.uniform(10,40,100)\n",
    "x_5 = np.random.uniform(-50,20,100)\n",
    "x_6 = np.random.uniform(20,60,100)\n",
    "epsilon = np.random.normal(0,10,100)"
   ]
  },
  {
   "cell_type": "code",
   "execution_count": 105,
   "id": "42b4353c",
   "metadata": {},
   "outputs": [],
   "source": [
    "y=-30+1.3*x_1+1.6*x_2+1.1*x_3+0.7*x_4-2.1*x_5-0.9*x_6+epsilon"
   ]
  },
  {
   "cell_type": "code",
   "execution_count": 106,
   "id": "f4f0d12d",
   "metadata": {},
   "outputs": [],
   "source": [
    "X_ols=pd.DataFrame()\n",
    "X_ols['Constant']=pd.Series(np.ones(100))\n",
    "X_ols['X1'] = pd.Series(x_1)\n",
    "X_ols['X2'] = pd.Series(x_2)\n",
    "X_ols['X3'] = pd.Series(x_3)\n",
    "X_ols['X4'] = pd.Series(x_4)\n",
    "X_ols['X5'] = pd.Series(x_5)\n",
    "X_ols['X6'] = pd.Series(x_6)"
   ]
  },
  {
   "cell_type": "code",
   "execution_count": 107,
   "id": "0614462a",
   "metadata": {},
   "outputs": [
    {
     "data": {
      "text/html": [
       "<table class=\"simpletable\">\n",
       "<caption>OLS Regression Results</caption>\n",
       "<tr>\n",
       "  <th>Dep. Variable:</th>            <td>y</td>        <th>  R-squared:         </th> <td>   0.975</td>\n",
       "</tr>\n",
       "<tr>\n",
       "  <th>Model:</th>                   <td>OLS</td>       <th>  Adj. R-squared:    </th> <td>   0.973</td>\n",
       "</tr>\n",
       "<tr>\n",
       "  <th>Method:</th>             <td>Least Squares</td>  <th>  F-statistic:       </th> <td>   602.3</td>\n",
       "</tr>\n",
       "<tr>\n",
       "  <th>Date:</th>             <td>Mon, 02 Oct 2023</td> <th>  Prob (F-statistic):</th> <td>4.13e-72</td>\n",
       "</tr>\n",
       "<tr>\n",
       "  <th>Time:</th>                 <td>20:39:29</td>     <th>  Log-Likelihood:    </th> <td> -362.20</td>\n",
       "</tr>\n",
       "<tr>\n",
       "  <th>No. Observations:</th>      <td>   100</td>      <th>  AIC:               </th> <td>   738.4</td>\n",
       "</tr>\n",
       "<tr>\n",
       "  <th>Df Residuals:</th>          <td>    93</td>      <th>  BIC:               </th> <td>   756.6</td>\n",
       "</tr>\n",
       "<tr>\n",
       "  <th>Df Model:</th>              <td>     6</td>      <th>                     </th>     <td> </td>   \n",
       "</tr>\n",
       "<tr>\n",
       "  <th>Covariance Type:</th>      <td>nonrobust</td>    <th>                     </th>     <td> </td>   \n",
       "</tr>\n",
       "</table>\n",
       "<table class=\"simpletable\">\n",
       "<tr>\n",
       "      <td></td>        <th>coef</th>     <th>std err</th>      <th>t</th>      <th>P>|t|</th>  <th>[0.025</th>    <th>0.975]</th>  \n",
       "</tr>\n",
       "<tr>\n",
       "  <th>Constant</th> <td>  -29.5262</td> <td>    6.128</td> <td>   -4.818</td> <td> 0.000</td> <td>  -41.695</td> <td>  -17.357</td>\n",
       "</tr>\n",
       "<tr>\n",
       "  <th>X1</th>       <td>    1.1431</td> <td>    0.110</td> <td>   10.353</td> <td> 0.000</td> <td>    0.924</td> <td>    1.362</td>\n",
       "</tr>\n",
       "<tr>\n",
       "  <th>X2</th>       <td>    1.5640</td> <td>    0.048</td> <td>   32.393</td> <td> 0.000</td> <td>    1.468</td> <td>    1.660</td>\n",
       "</tr>\n",
       "<tr>\n",
       "  <th>X3</th>       <td>    1.0936</td> <td>    0.089</td> <td>   12.345</td> <td> 0.000</td> <td>    0.918</td> <td>    1.270</td>\n",
       "</tr>\n",
       "<tr>\n",
       "  <th>X4</th>       <td>    0.6876</td> <td>    0.101</td> <td>    6.836</td> <td> 0.000</td> <td>    0.488</td> <td>    0.887</td>\n",
       "</tr>\n",
       "<tr>\n",
       "  <th>X5</th>       <td>   -2.1218</td> <td>    0.046</td> <td>  -45.768</td> <td> 0.000</td> <td>   -2.214</td> <td>   -2.030</td>\n",
       "</tr>\n",
       "<tr>\n",
       "  <th>X6</th>       <td>   -0.8224</td> <td>    0.081</td> <td>  -10.210</td> <td> 0.000</td> <td>   -0.982</td> <td>   -0.662</td>\n",
       "</tr>\n",
       "</table>\n",
       "<table class=\"simpletable\">\n",
       "<tr>\n",
       "  <th>Omnibus:</th>       <td> 0.768</td> <th>  Durbin-Watson:     </th> <td>   2.050</td>\n",
       "</tr>\n",
       "<tr>\n",
       "  <th>Prob(Omnibus):</th> <td> 0.681</td> <th>  Jarque-Bera (JB):  </th> <td>   0.343</td>\n",
       "</tr>\n",
       "<tr>\n",
       "  <th>Skew:</th>          <td> 0.071</td> <th>  Prob(JB):          </th> <td>   0.842</td>\n",
       "</tr>\n",
       "<tr>\n",
       "  <th>Kurtosis:</th>      <td> 3.249</td> <th>  Cond. No.          </th> <td>    464.</td>\n",
       "</tr>\n",
       "</table><br/><br/>Notes:<br/>[1] Standard Errors assume that the covariance matrix of the errors is correctly specified."
      ],
      "text/latex": [
       "\\begin{center}\n",
       "\\begin{tabular}{lclc}\n",
       "\\toprule\n",
       "\\textbf{Dep. Variable:}    &        y         & \\textbf{  R-squared:         } &     0.975   \\\\\n",
       "\\textbf{Model:}            &       OLS        & \\textbf{  Adj. R-squared:    } &     0.973   \\\\\n",
       "\\textbf{Method:}           &  Least Squares   & \\textbf{  F-statistic:       } &     602.3   \\\\\n",
       "\\textbf{Date:}             & Mon, 02 Oct 2023 & \\textbf{  Prob (F-statistic):} &  4.13e-72   \\\\\n",
       "\\textbf{Time:}             &     20:39:29     & \\textbf{  Log-Likelihood:    } &   -362.20   \\\\\n",
       "\\textbf{No. Observations:} &         100      & \\textbf{  AIC:               } &     738.4   \\\\\n",
       "\\textbf{Df Residuals:}     &          93      & \\textbf{  BIC:               } &     756.6   \\\\\n",
       "\\textbf{Df Model:}         &           6      & \\textbf{                     } &             \\\\\n",
       "\\textbf{Covariance Type:}  &    nonrobust     & \\textbf{                     } &             \\\\\n",
       "\\bottomrule\n",
       "\\end{tabular}\n",
       "\\begin{tabular}{lcccccc}\n",
       "                  & \\textbf{coef} & \\textbf{std err} & \\textbf{t} & \\textbf{P$> |$t$|$} & \\textbf{[0.025} & \\textbf{0.975]}  \\\\\n",
       "\\midrule\n",
       "\\textbf{Constant} &     -29.5262  &        6.128     &    -4.818  &         0.000        &      -41.695    &      -17.357     \\\\\n",
       "\\textbf{X1}       &       1.1431  &        0.110     &    10.353  &         0.000        &        0.924    &        1.362     \\\\\n",
       "\\textbf{X2}       &       1.5640  &        0.048     &    32.393  &         0.000        &        1.468    &        1.660     \\\\\n",
       "\\textbf{X3}       &       1.0936  &        0.089     &    12.345  &         0.000        &        0.918    &        1.270     \\\\\n",
       "\\textbf{X4}       &       0.6876  &        0.101     &     6.836  &         0.000        &        0.488    &        0.887     \\\\\n",
       "\\textbf{X5}       &      -2.1218  &        0.046     &   -45.768  &         0.000        &       -2.214    &       -2.030     \\\\\n",
       "\\textbf{X6}       &      -0.8224  &        0.081     &   -10.210  &         0.000        &       -0.982    &       -0.662     \\\\\n",
       "\\bottomrule\n",
       "\\end{tabular}\n",
       "\\begin{tabular}{lclc}\n",
       "\\textbf{Omnibus:}       &  0.768 & \\textbf{  Durbin-Watson:     } &    2.050  \\\\\n",
       "\\textbf{Prob(Omnibus):} &  0.681 & \\textbf{  Jarque-Bera (JB):  } &    0.343  \\\\\n",
       "\\textbf{Skew:}          &  0.071 & \\textbf{  Prob(JB):          } &    0.842  \\\\\n",
       "\\textbf{Kurtosis:}      &  3.249 & \\textbf{  Cond. No.          } &     464.  \\\\\n",
       "\\bottomrule\n",
       "\\end{tabular}\n",
       "%\\caption{OLS Regression Results}\n",
       "\\end{center}\n",
       "\n",
       "Notes: \\newline\n",
       " [1] Standard Errors assume that the covariance matrix of the errors is correctly specified."
      ],
      "text/plain": [
       "<class 'statsmodels.iolib.summary.Summary'>\n",
       "\"\"\"\n",
       "                            OLS Regression Results                            \n",
       "==============================================================================\n",
       "Dep. Variable:                      y   R-squared:                       0.975\n",
       "Model:                            OLS   Adj. R-squared:                  0.973\n",
       "Method:                 Least Squares   F-statistic:                     602.3\n",
       "Date:                Mon, 02 Oct 2023   Prob (F-statistic):           4.13e-72\n",
       "Time:                        20:39:29   Log-Likelihood:                -362.20\n",
       "No. Observations:                 100   AIC:                             738.4\n",
       "Df Residuals:                      93   BIC:                             756.6\n",
       "Df Model:                           6                                         \n",
       "Covariance Type:            nonrobust                                         \n",
       "==============================================================================\n",
       "                 coef    std err          t      P>|t|      [0.025      0.975]\n",
       "------------------------------------------------------------------------------\n",
       "Constant     -29.5262      6.128     -4.818      0.000     -41.695     -17.357\n",
       "X1             1.1431      0.110     10.353      0.000       0.924       1.362\n",
       "X2             1.5640      0.048     32.393      0.000       1.468       1.660\n",
       "X3             1.0936      0.089     12.345      0.000       0.918       1.270\n",
       "X4             0.6876      0.101      6.836      0.000       0.488       0.887\n",
       "X5            -2.1218      0.046    -45.768      0.000      -2.214      -2.030\n",
       "X6            -0.8224      0.081    -10.210      0.000      -0.982      -0.662\n",
       "==============================================================================\n",
       "Omnibus:                        0.768   Durbin-Watson:                   2.050\n",
       "Prob(Omnibus):                  0.681   Jarque-Bera (JB):                0.343\n",
       "Skew:                           0.071   Prob(JB):                        0.842\n",
       "Kurtosis:                       3.249   Cond. No.                         464.\n",
       "==============================================================================\n",
       "\n",
       "Notes:\n",
       "[1] Standard Errors assume that the covariance matrix of the errors is correctly specified.\n",
       "\"\"\""
      ]
     },
     "execution_count": 107,
     "metadata": {},
     "output_type": "execute_result"
    }
   ],
   "source": [
    "model_reg = sm.OLS(y,X_ols).fit()\n",
    "model_reg.summary()"
   ]
  },
  {
   "cell_type": "code",
   "execution_count": 108,
   "id": "7a996da0",
   "metadata": {},
   "outputs": [],
   "source": [
    "# Now we add some unrelated coefficients\n",
    "x_7 = np.random.uniform(10,40,100)\n",
    "x_8 = np.random.uniform(-50,20,100)\n",
    "x_9 = np.random.uniform(20,60,100)\n",
    "x_10 = np.random.uniform(10,40,100)\n",
    "x_11 = np.random.uniform(-50,20,100)\n",
    "x_12 = np.random.uniform(20,60,100)"
   ]
  },
  {
   "cell_type": "code",
   "execution_count": 109,
   "id": "6c40d68e",
   "metadata": {},
   "outputs": [],
   "source": [
    "X_ext = pd.DataFrame()\n",
    "X_ext['Constant']=pd.Series(np.ones(100))\n",
    "X_ext['X1'] = pd.Series(x_1)\n",
    "X_ext['X2'] = pd.Series(x_2)\n",
    "X_ext['X3'] = pd.Series(x_3)\n",
    "X_ext['X4'] = pd.Series(x_4)\n",
    "X_ext['X5'] = pd.Series(x_5)\n",
    "X_ext['X6'] = pd.Series(x_6)\n",
    "X_ext['X7'] = pd.Series(x_7)\n",
    "X_ext['X8'] = pd.Series(x_8)\n",
    "X_ext['X9'] = pd.Series(x_9)\n",
    "X_ext['X10'] = pd.Series(x_10)\n",
    "X_ext['X11'] = pd.Series(x_11)\n",
    "X_ext['X12'] = pd.Series(x_12)"
   ]
  },
  {
   "cell_type": "code",
   "execution_count": 110,
   "id": "d87033bc",
   "metadata": {},
   "outputs": [
    {
     "data": {
      "text/html": [
       "<table class=\"simpletable\">\n",
       "<caption>OLS Regression Results</caption>\n",
       "<tr>\n",
       "  <th>Dep. Variable:</th>            <td>y</td>        <th>  R-squared:         </th> <td>   0.975</td>\n",
       "</tr>\n",
       "<tr>\n",
       "  <th>Model:</th>                   <td>OLS</td>       <th>  Adj. R-squared:    </th> <td>   0.972</td>\n",
       "</tr>\n",
       "<tr>\n",
       "  <th>Method:</th>             <td>Least Squares</td>  <th>  F-statistic:       </th> <td>   288.4</td>\n",
       "</tr>\n",
       "<tr>\n",
       "  <th>Date:</th>             <td>Mon, 02 Oct 2023</td> <th>  Prob (F-statistic):</th> <td>1.42e-64</td>\n",
       "</tr>\n",
       "<tr>\n",
       "  <th>Time:</th>                 <td>20:39:29</td>     <th>  Log-Likelihood:    </th> <td> -361.06</td>\n",
       "</tr>\n",
       "<tr>\n",
       "  <th>No. Observations:</th>      <td>   100</td>      <th>  AIC:               </th> <td>   748.1</td>\n",
       "</tr>\n",
       "<tr>\n",
       "  <th>Df Residuals:</th>          <td>    87</td>      <th>  BIC:               </th> <td>   782.0</td>\n",
       "</tr>\n",
       "<tr>\n",
       "  <th>Df Model:</th>              <td>    12</td>      <th>                     </th>     <td> </td>   \n",
       "</tr>\n",
       "<tr>\n",
       "  <th>Covariance Type:</th>      <td>nonrobust</td>    <th>                     </th>     <td> </td>   \n",
       "</tr>\n",
       "</table>\n",
       "<table class=\"simpletable\">\n",
       "<tr>\n",
       "      <td></td>        <th>coef</th>     <th>std err</th>      <th>t</th>      <th>P>|t|</th>  <th>[0.025</th>    <th>0.975]</th>  \n",
       "</tr>\n",
       "<tr>\n",
       "  <th>Constant</th> <td>  -21.7689</td> <td>    9.074</td> <td>   -2.399</td> <td> 0.019</td> <td>  -39.804</td> <td>   -3.734</td>\n",
       "</tr>\n",
       "<tr>\n",
       "  <th>X1</th>       <td>    1.1270</td> <td>    0.117</td> <td>    9.649</td> <td> 0.000</td> <td>    0.895</td> <td>    1.359</td>\n",
       "</tr>\n",
       "<tr>\n",
       "  <th>X2</th>       <td>    1.5652</td> <td>    0.053</td> <td>   29.653</td> <td> 0.000</td> <td>    1.460</td> <td>    1.670</td>\n",
       "</tr>\n",
       "<tr>\n",
       "  <th>X3</th>       <td>    1.0906</td> <td>    0.092</td> <td>   11.896</td> <td> 0.000</td> <td>    0.908</td> <td>    1.273</td>\n",
       "</tr>\n",
       "<tr>\n",
       "  <th>X4</th>       <td>    0.6811</td> <td>    0.104</td> <td>    6.547</td> <td> 0.000</td> <td>    0.474</td> <td>    0.888</td>\n",
       "</tr>\n",
       "<tr>\n",
       "  <th>X5</th>       <td>   -2.1149</td> <td>    0.049</td> <td>  -43.167</td> <td> 0.000</td> <td>   -2.212</td> <td>   -2.018</td>\n",
       "</tr>\n",
       "<tr>\n",
       "  <th>X6</th>       <td>   -0.8201</td> <td>    0.084</td> <td>   -9.770</td> <td> 0.000</td> <td>   -0.987</td> <td>   -0.653</td>\n",
       "</tr>\n",
       "<tr>\n",
       "  <th>X7</th>       <td>   -0.0142</td> <td>    0.117</td> <td>   -0.122</td> <td> 0.903</td> <td>   -0.246</td> <td>    0.218</td>\n",
       "</tr>\n",
       "<tr>\n",
       "  <th>X8</th>       <td>    0.0154</td> <td>    0.047</td> <td>    0.330</td> <td> 0.742</td> <td>   -0.077</td> <td>    0.108</td>\n",
       "</tr>\n",
       "<tr>\n",
       "  <th>X9</th>       <td>   -0.0761</td> <td>    0.086</td> <td>   -0.885</td> <td> 0.379</td> <td>   -0.247</td> <td>    0.095</td>\n",
       "</tr>\n",
       "<tr>\n",
       "  <th>X10</th>      <td>   -0.0982</td> <td>    0.122</td> <td>   -0.803</td> <td> 0.424</td> <td>   -0.341</td> <td>    0.145</td>\n",
       "</tr>\n",
       "<tr>\n",
       "  <th>X11</th>      <td>    0.0263</td> <td>    0.050</td> <td>    0.524</td> <td> 0.601</td> <td>   -0.073</td> <td>    0.126</td>\n",
       "</tr>\n",
       "<tr>\n",
       "  <th>X12</th>      <td>   -0.0134</td> <td>    0.090</td> <td>   -0.150</td> <td> 0.881</td> <td>   -0.191</td> <td>    0.165</td>\n",
       "</tr>\n",
       "</table>\n",
       "<table class=\"simpletable\">\n",
       "<tr>\n",
       "  <th>Omnibus:</th>       <td> 0.807</td> <th>  Durbin-Watson:     </th> <td>   2.000</td>\n",
       "</tr>\n",
       "<tr>\n",
       "  <th>Prob(Omnibus):</th> <td> 0.668</td> <th>  Jarque-Bera (JB):  </th> <td>   0.356</td>\n",
       "</tr>\n",
       "<tr>\n",
       "  <th>Skew:</th>          <td>-0.002</td> <th>  Prob(JB):          </th> <td>   0.837</td>\n",
       "</tr>\n",
       "<tr>\n",
       "  <th>Kurtosis:</th>      <td> 3.292</td> <th>  Cond. No.          </th> <td>    947.</td>\n",
       "</tr>\n",
       "</table><br/><br/>Notes:<br/>[1] Standard Errors assume that the covariance matrix of the errors is correctly specified."
      ],
      "text/latex": [
       "\\begin{center}\n",
       "\\begin{tabular}{lclc}\n",
       "\\toprule\n",
       "\\textbf{Dep. Variable:}    &        y         & \\textbf{  R-squared:         } &     0.975   \\\\\n",
       "\\textbf{Model:}            &       OLS        & \\textbf{  Adj. R-squared:    } &     0.972   \\\\\n",
       "\\textbf{Method:}           &  Least Squares   & \\textbf{  F-statistic:       } &     288.4   \\\\\n",
       "\\textbf{Date:}             & Mon, 02 Oct 2023 & \\textbf{  Prob (F-statistic):} &  1.42e-64   \\\\\n",
       "\\textbf{Time:}             &     20:39:29     & \\textbf{  Log-Likelihood:    } &   -361.06   \\\\\n",
       "\\textbf{No. Observations:} &         100      & \\textbf{  AIC:               } &     748.1   \\\\\n",
       "\\textbf{Df Residuals:}     &          87      & \\textbf{  BIC:               } &     782.0   \\\\\n",
       "\\textbf{Df Model:}         &          12      & \\textbf{                     } &             \\\\\n",
       "\\textbf{Covariance Type:}  &    nonrobust     & \\textbf{                     } &             \\\\\n",
       "\\bottomrule\n",
       "\\end{tabular}\n",
       "\\begin{tabular}{lcccccc}\n",
       "                  & \\textbf{coef} & \\textbf{std err} & \\textbf{t} & \\textbf{P$> |$t$|$} & \\textbf{[0.025} & \\textbf{0.975]}  \\\\\n",
       "\\midrule\n",
       "\\textbf{Constant} &     -21.7689  &        9.074     &    -2.399  &         0.019        &      -39.804    &       -3.734     \\\\\n",
       "\\textbf{X1}       &       1.1270  &        0.117     &     9.649  &         0.000        &        0.895    &        1.359     \\\\\n",
       "\\textbf{X2}       &       1.5652  &        0.053     &    29.653  &         0.000        &        1.460    &        1.670     \\\\\n",
       "\\textbf{X3}       &       1.0906  &        0.092     &    11.896  &         0.000        &        0.908    &        1.273     \\\\\n",
       "\\textbf{X4}       &       0.6811  &        0.104     &     6.547  &         0.000        &        0.474    &        0.888     \\\\\n",
       "\\textbf{X5}       &      -2.1149  &        0.049     &   -43.167  &         0.000        &       -2.212    &       -2.018     \\\\\n",
       "\\textbf{X6}       &      -0.8201  &        0.084     &    -9.770  &         0.000        &       -0.987    &       -0.653     \\\\\n",
       "\\textbf{X7}       &      -0.0142  &        0.117     &    -0.122  &         0.903        &       -0.246    &        0.218     \\\\\n",
       "\\textbf{X8}       &       0.0154  &        0.047     &     0.330  &         0.742        &       -0.077    &        0.108     \\\\\n",
       "\\textbf{X9}       &      -0.0761  &        0.086     &    -0.885  &         0.379        &       -0.247    &        0.095     \\\\\n",
       "\\textbf{X10}      &      -0.0982  &        0.122     &    -0.803  &         0.424        &       -0.341    &        0.145     \\\\\n",
       "\\textbf{X11}      &       0.0263  &        0.050     &     0.524  &         0.601        &       -0.073    &        0.126     \\\\\n",
       "\\textbf{X12}      &      -0.0134  &        0.090     &    -0.150  &         0.881        &       -0.191    &        0.165     \\\\\n",
       "\\bottomrule\n",
       "\\end{tabular}\n",
       "\\begin{tabular}{lclc}\n",
       "\\textbf{Omnibus:}       &  0.807 & \\textbf{  Durbin-Watson:     } &    2.000  \\\\\n",
       "\\textbf{Prob(Omnibus):} &  0.668 & \\textbf{  Jarque-Bera (JB):  } &    0.356  \\\\\n",
       "\\textbf{Skew:}          & -0.002 & \\textbf{  Prob(JB):          } &    0.837  \\\\\n",
       "\\textbf{Kurtosis:}      &  3.292 & \\textbf{  Cond. No.          } &     947.  \\\\\n",
       "\\bottomrule\n",
       "\\end{tabular}\n",
       "%\\caption{OLS Regression Results}\n",
       "\\end{center}\n",
       "\n",
       "Notes: \\newline\n",
       " [1] Standard Errors assume that the covariance matrix of the errors is correctly specified."
      ],
      "text/plain": [
       "<class 'statsmodels.iolib.summary.Summary'>\n",
       "\"\"\"\n",
       "                            OLS Regression Results                            \n",
       "==============================================================================\n",
       "Dep. Variable:                      y   R-squared:                       0.975\n",
       "Model:                            OLS   Adj. R-squared:                  0.972\n",
       "Method:                 Least Squares   F-statistic:                     288.4\n",
       "Date:                Mon, 02 Oct 2023   Prob (F-statistic):           1.42e-64\n",
       "Time:                        20:39:29   Log-Likelihood:                -361.06\n",
       "No. Observations:                 100   AIC:                             748.1\n",
       "Df Residuals:                      87   BIC:                             782.0\n",
       "Df Model:                          12                                         \n",
       "Covariance Type:            nonrobust                                         \n",
       "==============================================================================\n",
       "                 coef    std err          t      P>|t|      [0.025      0.975]\n",
       "------------------------------------------------------------------------------\n",
       "Constant     -21.7689      9.074     -2.399      0.019     -39.804      -3.734\n",
       "X1             1.1270      0.117      9.649      0.000       0.895       1.359\n",
       "X2             1.5652      0.053     29.653      0.000       1.460       1.670\n",
       "X3             1.0906      0.092     11.896      0.000       0.908       1.273\n",
       "X4             0.6811      0.104      6.547      0.000       0.474       0.888\n",
       "X5            -2.1149      0.049    -43.167      0.000      -2.212      -2.018\n",
       "X6            -0.8201      0.084     -9.770      0.000      -0.987      -0.653\n",
       "X7            -0.0142      0.117     -0.122      0.903      -0.246       0.218\n",
       "X8             0.0154      0.047      0.330      0.742      -0.077       0.108\n",
       "X9            -0.0761      0.086     -0.885      0.379      -0.247       0.095\n",
       "X10           -0.0982      0.122     -0.803      0.424      -0.341       0.145\n",
       "X11            0.0263      0.050      0.524      0.601      -0.073       0.126\n",
       "X12           -0.0134      0.090     -0.150      0.881      -0.191       0.165\n",
       "==============================================================================\n",
       "Omnibus:                        0.807   Durbin-Watson:                   2.000\n",
       "Prob(Omnibus):                  0.668   Jarque-Bera (JB):                0.356\n",
       "Skew:                          -0.002   Prob(JB):                        0.837\n",
       "Kurtosis:                       3.292   Cond. No.                         947.\n",
       "==============================================================================\n",
       "\n",
       "Notes:\n",
       "[1] Standard Errors assume that the covariance matrix of the errors is correctly specified.\n",
       "\"\"\""
      ]
     },
     "execution_count": 110,
     "metadata": {},
     "output_type": "execute_result"
    }
   ],
   "source": [
    "model_reg = sm.OLS(y,X_ext).fit()\n",
    "model_reg.summary()"
   ]
  },
  {
   "cell_type": "code",
   "execution_count": 111,
   "id": "13cad226",
   "metadata": {},
   "outputs": [],
   "source": [
    "y=-30+0.4*x_1+0.6*x_2+3.1*x_3+0.7*x_8-2.1*x_5-0.9*x_9+epsilon"
   ]
  },
  {
   "cell_type": "code",
   "execution_count": 112,
   "id": "88066bf3",
   "metadata": {},
   "outputs": [],
   "source": [
    "X_ext = X_ext.drop(columns=['Constant'])"
   ]
  },
  {
   "cell_type": "code",
   "execution_count": 124,
   "id": "4bf6e43b",
   "metadata": {},
   "outputs": [
    {
     "data": {
      "text/plain": [
       "array([ 0.        ,  0.13479556,  2.1547165 ,  0.        , -1.94643964,\n",
       "        0.        , -0.        ,  0.44167744, -0.13854316, -0.        ,\n",
       "        0.        , -0.        ])"
      ]
     },
     "execution_count": 124,
     "metadata": {},
     "output_type": "execute_result"
    }
   ],
   "source": [
    "# When we input the matrix, we don't need to add the column of ones because \\\n",
    "# Lasso automatically takes it into account\n",
    "\n",
    "\n",
    "model_lasso = lm.Lasso(alpha=100).fit(X_ext,y)\n",
    "model_lasso.coef_"
   ]
  },
  {
   "cell_type": "code",
   "execution_count": 114,
   "id": "d9778204",
   "metadata": {},
   "outputs": [
    {
     "data": {
      "text/plain": [
       "array([ 7.68110540e-02,  5.31582574e-01,  2.98574784e+00, -0.00000000e+00,\n",
       "       -2.09102013e+00,  1.54030960e-02, -0.00000000e+00,  7.00325487e-01,\n",
       "       -9.11832782e-01, -0.00000000e+00,  1.71469575e-03,  0.00000000e+00])"
      ]
     },
     "execution_count": 114,
     "metadata": {},
     "output_type": "execute_result"
    }
   ],
   "source": [
    "model_lasso = lm.Lasso(alpha=10).fit(X_ext,y)\n",
    "model_lasso.coef_"
   ]
  },
  {
   "cell_type": "code",
   "execution_count": 115,
   "id": "7b10d4f6",
   "metadata": {},
   "outputs": [
    {
     "data": {
      "text/plain": [
       "array([ 0.22603378,  0.56480723,  3.08781382, -0.01862842, -2.11453683,\n",
       "        0.08004394, -0.01432826,  0.71514498, -0.9754489 , -0.09824119,\n",
       "        0.02638572, -0.01337677])"
      ]
     },
     "execution_count": 115,
     "metadata": {},
     "output_type": "execute_result"
    }
   ],
   "source": [
    "# We now apply Ridge Regression to our data\n",
    "\n",
    "model_ridge = lm.Ridge(alpha=10).fit(X_ext,y)\n",
    "model_ridge.coef_"
   ]
  },
  {
   "cell_type": "code",
   "execution_count": 121,
   "id": "16de3321",
   "metadata": {},
   "outputs": [
    {
     "data": {
      "text/plain": [
       "array([-0.05010018,  0.32983771,  1.65771352,  0.04071867, -1.75895731,\n",
       "        0.10011233, -0.08052616,  0.53731596, -0.56943529, -0.08552489,\n",
       "        0.0703879 , -0.00893031])"
      ]
     },
     "execution_count": 121,
     "metadata": {},
     "output_type": "execute_result"
    }
   ],
   "source": [
    "model_ridge = lm.Ridge(alpha=10000).fit(X_ext,y)\n",
    "model_ridge.coef_"
   ]
  },
  {
   "cell_type": "code",
   "execution_count": 117,
   "id": "b0628168",
   "metadata": {},
   "outputs": [
    {
     "data": {
      "text/plain": [
       "array([-0.05010018,  0.32983771,  1.65771352,  0.04071867, -1.75895731,\n",
       "        0.10011233, -0.08052616,  0.53731596, -0.56943529, -0.08552489,\n",
       "        0.0703879 , -0.00893031])"
      ]
     },
     "execution_count": 117,
     "metadata": {},
     "output_type": "execute_result"
    }
   ],
   "source": [
    "model_redige = lm.Ridge(alpha=10).fit(X_ext, y)\n",
    "model_ridge.coef_"
   ]
  },
  {
   "cell_type": "code",
   "execution_count": 118,
   "id": "ed5c1965",
   "metadata": {},
   "outputs": [
    {
     "data": {
      "text/plain": [
       "array([ 0.1469961 ,  0.52613449,  2.83582999,  0.00475252, -2.07544279,\n",
       "        0.09481243, -0.02584396,  0.69157324, -0.91238875, -0.09793964,\n",
       "        0.03713932, -0.01100809])"
      ]
     },
     "execution_count": 118,
     "metadata": {},
     "output_type": "execute_result"
    }
   ],
   "source": [
    "model_ridge = lm.Ridge(alpha=1000).fit(X_ext, y)\n",
    "model_ridge.coef_"
   ]
  }
 ],
 "metadata": {
  "kernelspec": {
   "display_name": "Python 3 (ipykernel)",
   "language": "python",
   "name": "python3"
  },
  "language_info": {
   "codemirror_mode": {
    "name": "ipython",
    "version": 3
   },
   "file_extension": ".py",
   "mimetype": "text/x-python",
   "name": "python",
   "nbconvert_exporter": "python",
   "pygments_lexer": "ipython3",
   "version": "3.11.3"
  }
 },
 "nbformat": 4,
 "nbformat_minor": 5
}
